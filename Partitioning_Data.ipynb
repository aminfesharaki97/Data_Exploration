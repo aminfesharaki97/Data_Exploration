{
 "cells": [
  {
   "cell_type": "markdown",
   "metadata": {},
   "source": [
    "# Partition the Data"
   ]
  },
  {
   "cell_type": "code",
   "execution_count": 28,
   "metadata": {},
   "outputs": [],
   "source": [
    "# Import Libraries\n",
    "import pandas as pd\n",
    "import numpy as np\n",
    "import random\n",
    "import matplotlib.pyplot as plt\n",
    "import scipy.stats as stats\n",
    "from statsmodels.stats.weightstats import ttest_ind\n",
    "from statsmodels.stats.weightstats import ztest as ztest\n",
    "from sklearn.model_selection import train_test_split"
   ]
  },
  {
   "cell_type": "code",
   "execution_count": 10,
   "metadata": {},
   "outputs": [],
   "source": [
    "# Import Data\n",
    "churn = pd.read_csv(\"/Users/datascience/Desktop/ADS 502 Data Sets/Website Data Sets/churn.csv\")\n",
    "churn = churn[['State', 'Account Length','Area Code','Phone','Intl Plan', 'VMail Plan', 'VMail Message', \n",
    "               'Day Mins', 'Day Calls', 'Day Charge', 'Eve Mins', 'Eve Charge' , 'Night Mins', 'Night Calls',\n",
    "               'Night Charge', 'Intl Mins', 'Intl Calls' , 'Intl Charge', 'CustServ Calls', 'Old Churn', \n",
    "               'Churn']]"
   ]
  },
  {
   "cell_type": "markdown",
   "metadata": {},
   "source": [
    "## 28. Partition the data set, so that 67% of the records are included in the training data set and 33% are included in the test data set. Use a bar graph to confirm your proportions.\n"
   ]
  },
  {
   "cell_type": "code",
   "execution_count": 11,
   "metadata": {},
   "outputs": [
    {
     "data": {
      "text/plain": [
       "Text(0.5, 1.0, ' Test_Train_Split Percentages')"
      ]
     },
     "execution_count": 11,
     "metadata": {},
     "output_type": "execute_result"
    },
    {
     "data": {
      "image/png": "[encoded data removed]",
      "text/plain": [
       "<Figure size 432x288 with 1 Axes>"
      ]
     },
     "metadata": {
      "needs_background": "light"
     },
     "output_type": "display_data"
    }
   ],
   "source": [
    "churn_train, churn_test = train_test_split(churn,test_size = 0.33, random_state = 1)\n",
    "Total = churn.shape[0]\n",
    "Test_count = churn_test.shape[0]/churn.shape[0]*100\n",
    "Train_count = churn_train.shape[0]/churn.shape[0]*100\n",
    "\n",
    "x = ['Test', 'Train']\n",
    "plt.bar(x,[Test_count, Train_count])\n",
    "plt.xlabel(\" Dataset\")\n",
    "plt.ylabel(\"Percent\")\n",
    "plt.title(\" Test_Train_Split Percentages\")"
   ]
  },
  {
   "cell_type": "markdown",
   "metadata": {},
   "source": [
    "## 29. Identify the total number of records in the training data set and how many records in the training data set have a churn value of true."
   ]
  },
  {
   "cell_type": "code",
   "execution_count": 12,
   "metadata": {},
   "outputs": [
    {
     "name": "stdout",
     "output_type": "stream",
     "text": [
      " The total number of records in training data set is 2233\n"
     ]
    },
    {
     "data": {
      "text/plain": [
       "False    1907\n",
       "True      326\n",
       "Name: Churn, dtype: int64"
      ]
     },
     "execution_count": 12,
     "metadata": {},
     "output_type": "execute_result"
    }
   ],
   "source": [
    "# Total Number of Records in Training Set\n",
    "print (' The total number of records in training data set is', churn_train['Churn'].count())\n",
    "# Number of True Values\n",
    "churn_train['Churn'].value_counts()"
   ]
  },
  {
   "cell_type": "markdown",
   "metadata": {},
   "source": [
    "## 30. Use your answers from the previous exercise to calculate how many true churn records you need to resample in order to have 20% of the rebalanced data set have true churn values."
   ]
  },
  {
   "cell_type": "markdown",
   "metadata": {},
   "source": [
    " x = [0.2(2233)-326]/(0.8) = 150.5 = 151"
   ]
  },
  {
   "cell_type": "markdown",
   "metadata": {},
   "source": [
    "## 31. Perform the rebalancing described in the previous exercise and confirm that 20% of the records in the rebalanced data set have true churn values."
   ]
  },
  {
   "cell_type": "code",
   "execution_count": 13,
   "metadata": {},
   "outputs": [
    {
     "name": "stdout",
     "output_type": "stream",
     "text": [
      "The percentage of True Churn Values is 20.0 %\n"
     ]
    }
   ],
   "source": [
    "to_resample = churn_train.loc[churn_train['Churn']]\n",
    "our_resample = to_resample.sample(n=151, replace = True)\n",
    "churn_train_bal = pd.concat([churn_train, our_resample])\n",
    "ratio = churn_train_bal['Churn'].value_counts()[1]/ churn_train_bal.shape[0]*100\n",
    "print ('The percentage of True Churn Values is', ratio.round(), '%')\n"
   ]
  },
  {
   "cell_type": "markdown",
   "metadata": {},
   "source": [
    "## 32. Which baseline model do we use to compare our classification model performance against? To which value does this baseline model assign all predictions? What is the accuracy of this baseline model?"
   ]
  },
  {
   "cell_type": "markdown",
   "metadata": {},
   "source": [
    "We can use an 'All Positive Model' for our data which assigns all predictions as positive. Therefore the accuracy of this model is .20 or 20%. On the other hand, we can assign our model to be an 'All Negative Model' which assigns all predictionsas negative. In this case, the accuracy of the all negative model is .80 or 80%."
   ]
  },
  {
   "cell_type": "markdown",
   "metadata": {},
   "source": [
    "## 33. Validate your partition by testing for the difference in mean day minutes for the training set versus the test set."
   ]
  },
  {
   "cell_type": "code",
   "execution_count": 48,
   "metadata": {},
   "outputs": [
    {
     "data": {
      "text/plain": [
       "Ttest_indResult(statistic=2.7418016939231094, pvalue=0.006141547429596528)"
      ]
     },
     "metadata": {},
     "output_type": "display_data"
    }
   ],
   "source": [
    "#For numerical values, we use the two sample t-test for the difference in means\n",
    "\n",
    "\n",
    "T = stats.ttest_ind(churn_train_bal['Day Mins'], churn_test['Day Mins'])\n",
    "display(T)"
   ]
  },
  {
   "cell_type": "markdown",
   "metadata": {},
   "source": [
    "The p-value for our test is 0.00614 whis is greater than p-value(alpha) of 0.05. Therefore we rejust the null hypothesis and say that there is not enough evidence to support that the mean day minutes between both populations is different."
   ]
  },
  {
   "cell_type": "markdown",
   "metadata": {},
   "source": [
    "## 34. Validate your partition by testing for the difference in proportion of true churn records for the training set versus the test set."
   ]
  },
  {
   "cell_type": "markdown",
   "metadata": {},
   "source": [
    "For categorical variable with two classes, use the two -sample Z-test for the difference in proportions"
   ]
  },
  {
   "cell_type": "code",
   "execution_count": 47,
   "metadata": {},
   "outputs": [
    {
     "data": {
      "text/plain": [
       "(4.0871408493062065, 4.367220033931794e-05)"
      ]
     },
     "metadata": {},
     "output_type": "display_data"
    }
   ],
   "source": [
    "# Convert False True to 0 1\n",
    "zTrain = churn_train_bal['Churn'].astype(int)\n",
    "zTest = churn_test['Churn'].astype(int)\n",
    "\n",
    "\n",
    "#Test = churn_test['Churn'].astype(int)\n",
    "display(ztest(zTrain, zTest, value = 0))\n"
   ]
  },
  {
   "cell_type": "markdown",
   "metadata": {},
   "source": [
    "The p-value for this test is 0.000046 with is lower than the p-value (alpha) of 0.05. Therefore we can accept the null hypothesis and say that tere is enough evidence to support the proportion of true churn records in the dataset."
   ]
  }
 ],
 "metadata": {
  "kernelspec": {
   "display_name": "Python 3",
   "language": "python",
   "name": "python3"
  },
  "language_info": {
   "codemirror_mode": {
    "name": "ipython",
    "version": 3
   },
   "file_extension": ".py",
   "mimetype": "text/x-python",
   "name": "python",
   "nbconvert_exporter": "python",
   "pygments_lexer": "ipython3",
   "version": "3.8.5"
  }
 },
 "nbformat": 4,
 "nbformat_minor": 4
}
